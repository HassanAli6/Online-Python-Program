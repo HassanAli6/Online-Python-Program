{
 "cells": [
  {
   "cell_type": "code",
   "execution_count": 16,
   "id": "aa30f48f",
   "metadata": {},
   "outputs": [
    {
     "name": "stdout",
     "output_type": "stream",
     "text": [
      "Select operation.\n",
      "1.Addion\n",
      "2.Subtraction\n",
      "3.Multiplication\n",
      "4.Division\n",
      "Enter choice(1,2,3,4): 1\n",
      "Enter first number: 2\n",
      "Enter second number: 3\n",
      "2.0 + 3.0 = 5.0\n",
      "Continue to next calculation? (yes/no): yes\n",
      "Enter choice(1,2,3,4): 2\n",
      "Enter first number: 4\n",
      "Enter second number: 2\n",
      "4.0 - 2.0 = 2.0\n",
      "Continue to next calculation? (yes/no): yes\n",
      "Enter choice(1,2,3,4): 3\n",
      "Enter first number: 5\n",
      "Enter second number: 2\n",
      "5.0 * 2.0 = 10.0\n",
      "Continue to next calculation? (yes/no): yes\n",
      "Enter choice(1,2,3,4): 4\n",
      "Enter first number: 6\n",
      "Enter second number: 2\n",
      "6.0 / 2.0 = 3.0\n",
      "Continue to next calculation? (yes/no): no\n"
     ]
    }
   ],
   "source": [
    "#Q1\n",
    "def add(x, y):\n",
    "    return x + y\n",
    "def subtract(x, y):\n",
    "    return x - y\n",
    "def multiply(x, y):\n",
    "    return x * y\n",
    "def divide(x, y):\n",
    "    return x / y\n",
    "\n",
    "print(\"Select operation.\")\n",
    "print(\"1.Addion\")\n",
    "print(\"2.Subtraction\")\n",
    "print(\"3.Multiplication\")\n",
    "print(\"4.Division\")\n",
    "\n",
    "while True:\n",
    "    choice = input(\"Enter choice(1,2,3,4): \") \n",
    "    if choice in ('1', '2', '3', '4'):\n",
    "        num1 = float(input(\"Enter first number: \"))\n",
    "        num2 = float(input(\"Enter second number: \"))\n",
    "        if choice == '1':\n",
    "            print(num1, \"+\", num2, \"=\", add(num1, num2))\n",
    "        elif choice == '2':\n",
    "            print(num1, \"-\", num2, \"=\", subtract(num1, num2))\n",
    "        elif choice == '3':\n",
    "            print(num1, \"*\", num2, \"=\", multiply(num1, num2))\n",
    "        elif choice == '4':\n",
    "            print(num1, \"/\", num2, \"=\", divide(num1, num2))\n",
    "        next_cal = input(\"Continue to next calculation? (yes/no): \")\n",
    "        if next_cal == \"no\":\n",
    "          break\n",
    "    else:\n",
    "        print(\"Invalid Input\")"
   ]
  },
  {
   "cell_type": "code",
   "execution_count": 3,
   "id": "6feb4229",
   "metadata": {},
   "outputs": [
    {
     "name": "stdout",
     "output_type": "stream",
     "text": [
      "{1: 9, 2: 2}\n",
      "{1: 9, 2: 3}\n"
     ]
    }
   ],
   "source": [
    "Q\n",
    "a = {1:9, 2:2}\n",
    "print(a)\n",
    "a.update({2:3})\n",
    "print(a)\n"
   ]
  },
  {
   "cell_type": "code",
   "execution_count": 8,
   "id": "2245c0e8",
   "metadata": {},
   "outputs": [
    {
     "name": "stdout",
     "output_type": "stream",
     "text": [
      "258\n"
     ]
    }
   ],
   "source": [
    "#Q4\n",
    "my_dict = {'Value1':97,'Value2':32,'Value':129}\n",
    "print(sum(my_dict.values()))\n"
   ]
  },
  {
   "cell_type": "code",
   "execution_count": 9,
   "id": "8c62a033",
   "metadata": {},
   "outputs": [
    {
     "name": "stdout",
     "output_type": "stream",
     "text": [
      "3 3 6 3 2 4 6 "
     ]
    }
   ],
   "source": [
    "#Q5\n",
    "l=[1,3,4,6,3,5,2,3,6,8,3,2,4,6,7]\n",
    "l1=[]\n",
    "for i in l:\n",
    "    if i not in l1:\n",
    "        l1.append(i)\n",
    "    else:\n",
    "        print(i,end=' ')"
   ]
  },
  {
   "cell_type": "code",
   "execution_count": 13,
   "id": "e89be01e",
   "metadata": {},
   "outputs": [
    {
     "name": "stdout",
     "output_type": "stream",
     "text": [
      "Given dictionary is:  {'Value1': 2, 'Value2': 5, 'Value3': 6, 'Value4': 8}\n",
      "Value 6  it is not Present.\n"
     ]
    }
   ],
   "source": [
    "#Q6\n",
    "a = {'Value1':2,'Value2':5,'Value3':6,'Value4':8}\n",
    "print(\"Given dictionary is: \",a)\n",
    "check_key = \"Value 6\"\n",
    "if check_key in a:\n",
    "   print(check_key,\" it is Present.\")\n",
    "else:\n",
    "   print(check_key, \" it is not Present.\")"
   ]
  },
  {
   "cell_type": "code",
   "execution_count": 15,
   "id": "9909bd79",
   "metadata": {},
   "outputs": [
    {
     "name": "stdout",
     "output_type": "stream",
     "text": [
      "2\n",
      "3\n"
     ]
    }
   ],
   "source": [
    "#Q2\n",
    "list = [2, \"Mon\", 3, \"Friday\"] \n",
    "for x in list: \n",
    "    if type(x) == int: \n",
    "        print(x)"
   ]
  },
  {
   "cell_type": "code",
   "execution_count": null,
   "id": "88c90ad1",
   "metadata": {},
   "outputs": [],
   "source": []
  }
 ],
 "metadata": {
  "kernelspec": {
   "display_name": "Python 3",
   "language": "python",
   "name": "python3"
  },
  "language_info": {
   "codemirror_mode": {
    "name": "ipython",
    "version": 3
   },
   "file_extension": ".py",
   "mimetype": "text/x-python",
   "name": "python",
   "nbconvert_exporter": "python",
   "pygments_lexer": "ipython3",
   "version": "3.8.8"
  }
 },
 "nbformat": 4,
 "nbformat_minor": 5
}
