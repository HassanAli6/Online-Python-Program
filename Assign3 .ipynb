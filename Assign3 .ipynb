{
 "cells": [
  {
   "cell_type": "code",
   "execution_count": 44,
   "id": "8cbbfeac",
   "metadata": {},
   "outputs": [
    {
     "name": "stdout",
     "output_type": "stream",
     "text": [
      "Twinkle, twinkle, little star, \n",
      "\tHow I wonder what you are! \n",
      "\t\tUp above the world so high, \n",
      "\t\tLike a diamond in the sky. \n",
      "Twinkle, twinkle, little star, \n",
      "\tHow I wonder what you are!\n"
     ]
    }
   ],
   "source": [
    "#Write a Python program to print the following string in a specific format (see the output).\n",
    "print(\"Twinkle, twinkle, little star, \\n\\tHow I wonder what you are! \\n\\t\\tUp above the world so high, \\n\\t\\tLike a diamond in the sky. \\nTwinkle, twinkle, little star, \\n\\tHow I wonder what you are!\")\n",
    "\n"
   ]
  },
  {
   "cell_type": "code",
   "execution_count": 2,
   "id": "c8366451",
   "metadata": {},
   "outputs": [
    {
     "name": "stdout",
     "output_type": "stream",
     "text": [
      "Python Version\n",
      "3.8.8 (default, Apr 13 2021, 15:08:03) [MSC v.1916 64 bit (AMD64)]\n",
      "Version info.\n",
      "sys.version_info(major=3, minor=8, micro=8, releaselevel='final', serial=0)\n"
     ]
    }
   ],
   "source": [
    "#Write a Python program to get the Python version you are using\n",
    "import sys\n",
    "print(\"Python Version\")\n",
    "print (sys.version)\n",
    "print(\"Version info.\")\n",
    "print (sys.version_info)"
   ]
  },
  {
   "cell_type": "code",
   "execution_count": 7,
   "id": "1098d0a4",
   "metadata": {},
   "outputs": [
    {
     "name": "stdout",
     "output_type": "stream",
     "text": [
      "Current date and time is : \n",
      "21-10-23 15:19:27\n"
     ]
    }
   ],
   "source": [
    "#Write a Python program to display the current date and time.\n",
    "import datetime\n",
    "now = datetime.datetime.now()\n",
    "print (\"Current date and time is : \")\n",
    "print (now.strftime(\"%y-%m-%d %H:%M:%S\"))"
   ]
  },
  {
   "cell_type": "code",
   "execution_count": 10,
   "id": "b9dba9ca",
   "metadata": {},
   "outputs": [
    {
     "name": "stdout",
     "output_type": "stream",
     "text": [
      "Give the radius of the circle : 3.1\n",
      "The area after compute 3.1 is: 30.190705400997917\n"
     ]
    }
   ],
   "source": [
    "#Write a Python program which accepts the radius of a circle from the user and compute the area.\n",
    "from math import pi\n",
    "r = float(input (\"Give the radius of the circle : \"))\n",
    "print (\"The area after compute \" + str(r) + \" is: \" + str(pi * r**2))"
   ]
  },
  {
   "cell_type": "code",
   "execution_count": 12,
   "id": "509e3a0a",
   "metadata": {},
   "outputs": [
    {
     "name": "stdout",
     "output_type": "stream",
     "text": [
      "Write Your First Name : Hassan\n",
      "Write Your Last Name : Ali\n",
      "Ali Hassan\n"
     ]
    }
   ],
   "source": [
    "#Write a Python program which accepts the user's first and last name and print them in reverse order with a space between them.\n",
    "FirstName=input(\"Write Your First Name : \")\n",
    "LastName = input(\"Write Your Last Name : \")\n",
    "\n",
    "print (LastName + \" \" + FirstName)"
   ]
  },
  {
   "cell_type": "code",
   "execution_count": 15,
   "id": "80064f65",
   "metadata": {},
   "outputs": [
    {
     "name": "stdout",
     "output_type": "stream",
     "text": [
      "Enter first number:5\n",
      "Enter second number:6\n",
      "Addition of both numbers is:\n",
      "11\n"
     ]
    }
   ],
   "source": [
    "#Write a python program which takes two inputs from user and print them addition\n",
    "FirstNum= int(input(\"Enter first number:\"))\n",
    "SecondNum = int(input(\"Enter second number:\"))\n",
    "Addition = FirstNum+SecondNum\n",
    "print(\"Addition of both numbers is:\");\n",
    "print(Addition)"
   ]
  },
  {
   "cell_type": "code",
   "execution_count": 21,
   "id": "98d0e708",
   "metadata": {},
   "outputs": [
    {
     "name": "stdout",
     "output_type": "stream",
     "text": [
      "Enter Marks of English:77\n",
      "Enter Marks of Urdu:78\n",
      "Enter Marks of Maths:79\n",
      "Enter Marks of Computer:80\n",
      "Enter Marks of Science:84\n",
      "Total Marks are:\n",
      "398\n",
      "Grade B+\n"
     ]
    }
   ],
   "source": [
    "#Write a program which takes 5 inputs from user for different subject’s marks, total it and generate mark sheet using grades ?\n",
    "English= int(input(\"Enter Marks of English:\"))\n",
    "Urdu= int(input(\"Enter Marks of Urdu:\"))\n",
    "Maths= int(input(\"Enter Marks of Maths:\"))\n",
    "Computer= int(input(\"Enter Marks of Computer:\"))\n",
    "Science= int(input(\"Enter Marks of Science:\"))\n",
    "TotalMarks=English+Urdu+Maths+Computer+Science\n",
    "print(\"Total Marks are:\");\n",
    "print(TotalMarks)\n",
    "if TotalMarks<500 and TotalMarks>400:\n",
    "    print(\"Grade A+\");\n",
    "elif TotalMarks<400 and TotalMarks>350:\n",
    "    print(\"Grade B+\");\n",
    "elif TotalMarks<350 and TotalMarks>300:\n",
    "    print(\"Grade C+\");\n",
    "else:\n",
    "    print(\"Failed\")\n",
    "    "
   ]
  },
  {
   "cell_type": "code",
   "execution_count": 22,
   "id": "c1b8b601",
   "metadata": {},
   "outputs": [
    {
     "name": "stdout",
     "output_type": "stream",
     "text": [
      "Enter a number: 6\n",
      "It's is an even number.\n"
     ]
    }
   ],
   "source": [
    "#Write a program which take input from user and identify that the given number is even or odd?\n",
    "Number = int(input(\"Enter a number: \"))\n",
    "mod = Number % 2\n",
    "if mod > 0:\n",
    "    print(\"It's an odd number.\")\n",
    "else:\n",
    "    print(\"It's is an even number.\")"
   ]
  },
  {
   "cell_type": "code",
   "execution_count": 24,
   "id": "13e2145b",
   "metadata": {},
   "outputs": [
    {
     "name": "stdout",
     "output_type": "stream",
     "text": [
      "Enter a number: 7\n",
      "It's an odd number.\n"
     ]
    }
   ],
   "source": [
    "#Write a program which take input from user and identify that the given number is even or odd?\n",
    "Number = int(input(\"Enter a number: \"))\n",
    "mod = Number% 2\n",
    "if mod > 0:\n",
    "    print(\"It's an odd number.\")\n",
    "else:\n",
    "    print(\"It's is an even number.\")"
   ]
  },
  {
   "cell_type": "code",
   "execution_count": 25,
   "id": "02e94f57",
   "metadata": {},
   "outputs": [
    {
     "name": "stdout",
     "output_type": "stream",
     "text": [
      "The length of the list is:\n",
      "6\n"
     ]
    }
   ],
   "source": [
    "#Write a program which print the length of the list?\n",
    "List = [\"Hassan\", \"Ahmed\", \"Ali\", \"Fatima\", \"Sobia\", \"Bilal\"]\n",
    "\n",
    "print(\"The length of the list is:\");\n",
    "print (len(List));"
   ]
  },
  {
   "cell_type": "code",
   "execution_count": 33,
   "id": "8855497f",
   "metadata": {},
   "outputs": [
    {
     "name": "stdout",
     "output_type": "stream",
     "text": [
      "11\n"
     ]
    }
   ],
   "source": [
    "#Write a Python program to sum all the numeric items in a list?\n",
    "def sum_list(items):\n",
    "    Sum_Num = 0\n",
    "    for x in items:\n",
    "        Sum_Num += x\n",
    "    return Sum_Num\n",
    "print(sum_list([2,4,5]))"
   ]
  },
  {
   "cell_type": "code",
   "execution_count": 35,
   "id": "d812c92f",
   "metadata": {},
   "outputs": [
    {
     "name": "stdout",
     "output_type": "stream",
     "text": [
      "8\n"
     ]
    }
   ],
   "source": [
    "#Write a Python program to get the largest number from a numeric list.\n",
    "def maxnum_inlist( list ):\n",
    "    max = list[ 0 ]\n",
    "    for x in list:\n",
    "        if x > max:\n",
    "            max = x\n",
    "    return max\n",
    "print(maxnum_inlist([2, 8,-3, 6]))"
   ]
  },
  {
   "cell_type": "code",
   "execution_count": 41,
   "id": "c0a37cac",
   "metadata": {},
   "outputs": [
    {
     "name": "stdout",
     "output_type": "stream",
     "text": [
      "[1, 1, 2, 3]\n"
     ]
    }
   ],
   "source": [
    "#12. Take a list, say for example this one:\n",
    "#a = [1, 1, 2, 3, 5, 8, 13, 21, 34, 55, 89]\n",
    "#Write a program that prints out all the elements of the list that are less than 5.\n",
    "a = [1, 1, 2, 3, 5, 8, 13, 21, 34, 55, 89]\n",
    "print([i for i in a if i<5]);"
   ]
  },
  {
   "cell_type": "code",
   "execution_count": null,
   "id": "aacddd85",
   "metadata": {},
   "outputs": [],
   "source": []
  }
 ],
 "metadata": {
  "kernelspec": {
   "display_name": "Python 3",
   "language": "python",
   "name": "python3"
  },
  "language_info": {
   "codemirror_mode": {
    "name": "ipython",
    "version": 3
   },
   "file_extension": ".py",
   "mimetype": "text/x-python",
   "name": "python",
   "nbconvert_exporter": "python",
   "pygments_lexer": "ipython3",
   "version": "3.8.8"
  }
 },
 "nbformat": 4,
 "nbformat_minor": 5
}
